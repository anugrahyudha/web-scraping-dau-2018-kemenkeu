{
 "cells": [
  {
   "cell_type": "markdown",
   "metadata": {},
   "source": [
    "# Import libraries"
   ]
  },
  {
   "cell_type": "code",
   "execution_count": null,
   "metadata": {
    "collapsed": true
   },
   "outputs": [],
   "source": [
    "import urllib.request # ada juga import urllib.error\n",
    "from bs4 import BeautifulSoup\n",
    "\n",
    "import json\n",
    "import requests\n",
    "import urllib.request\n",
    "\n",
    "from lxml import html\n",
    "\n",
    "from requests import get #beda dengan urllib.request\n",
    "\n",
    "import pandas as pd\n",
    "\n",
    "import string\n",
    "import re\n",
    "\n",
    "import math\n",
    "\n",
    "import time\n",
    "from time import sleep\n",
    "from random import randint\n",
    "\n",
    "from IPython.core.display import clear_output\n",
    "\n",
    "from selenium import webdriver\n",
    "from selenium.webdriver.common.by import By\n",
    "from selenium.webdriver.support.ui import Select\n",
    "from selenium.common.exceptions import NoSuchElementException\n",
    "from selenium.webdriver.support.ui import WebDriverWait\n",
    "from selenium.webdriver.support import expected_conditions as EC"
   ]
  },
  {
   "cell_type": "markdown",
   "metadata": {},
   "source": [
    " "
   ]
  },
  {
   "cell_type": "markdown",
   "metadata": {},
   "source": [
    "# Simpan Kode Daerah dalam Form Filter"
   ]
  },
  {
   "cell_type": "markdown",
   "metadata": {},
   "source": [
    "#### Buka Website yang mau di-Scrape:"
   ]
  },
  {
   "cell_type": "code",
   "execution_count": null,
   "metadata": {
    "collapsed": true
   },
   "outputs": [],
   "source": [
    "url = 'http://www.djpk.kemenkeu.go.id/datadasar/'\n",
    "browser = webdriver.Chrome() #replace with .Firefox(), or with the browser of your choice\n",
    "browser.get(url) #navigate to the page"
   ]
  },
  {
   "cell_type": "code",
   "execution_count": null,
   "metadata": {
    "collapsed": true
   },
   "outputs": [],
   "source": [
    "kode_daerah = []"
   ]
  },
  {
   "cell_type": "code",
   "execution_count": null,
   "metadata": {
    "collapsed": true
   },
   "outputs": [],
   "source": [
    "daerah = browser.find_element_by_id('s_daerah')\n",
    "pilihan = daerah.find_elements_by_tag_name(\"option\")\n",
    "for pilih in pilihan:\n",
    "    kode_daerah.append((pilih.get_attribute(\"value\"), pilih.text))"
   ]
  },
  {
   "cell_type": "markdown",
   "metadata": {},
   "source": [
    "#### Simpan dalam DataFrame:"
   ]
  },
  {
   "cell_type": "code",
   "execution_count": null,
   "metadata": {
    "collapsed": true
   },
   "outputs": [],
   "source": [
    "kode_daerah_df = pd.DataFrame(kode_daerah, columns = ['kode_daerah', 'nama_daerah'])"
   ]
  },
  {
   "cell_type": "markdown",
   "metadata": {},
   "source": [
    "#### Cek jumlah:"
   ]
  },
  {
   "cell_type": "code",
   "execution_count": null,
   "metadata": {},
   "outputs": [],
   "source": [
    "len(kode_daerah_df)"
   ]
  },
  {
   "cell_type": "markdown",
   "metadata": {},
   "source": [
    " "
   ]
  },
  {
   "cell_type": "markdown",
   "metadata": {},
   "source": [
    "# Mulai Kumpulkan Data Berdasarkan Daftar Kode Daerah yang Udah Didapatkan"
   ]
  },
  {
   "cell_type": "code",
   "execution_count": null,
   "metadata": {
    "collapsed": true
   },
   "outputs": [],
   "source": [
    "url = 'http://www.djpk.kemenkeu.go.id/datadasar/'\n",
    "browser = webdriver.Chrome() #replace with .Firefox(), or with the browser of your choice\n",
    "browser.get(url) #navigate to the page"
   ]
  },
  {
   "cell_type": "code",
   "execution_count": null,
   "metadata": {
    "collapsed": true
   },
   "outputs": [],
   "source": [
    "dau_2018 = []"
   ]
  },
  {
   "cell_type": "markdown",
   "metadata": {},
   "source": [
    "### Pengumpulan Data:"
   ]
  },
  {
   "cell_type": "code",
   "execution_count": null,
   "metadata": {
    "collapsed": true
   },
   "outputs": [],
   "source": [
    "for j in range(0, len(kode_daerah_df)):\n",
    "    pilih = Select(browser.find_element_by_name('s_daerah'))\n",
    "    pilih.select_by_value(kode_daerah_df.kode_daerah[j])\n",
    "    submit_button = browser.find_element_by_xpath(\"//button[@class = 'form-control btn btn-primary text-uppercase']\")\n",
    "    submit_button.click()\n",
    "    \n",
    "    sleep(randint(3,5))\n",
    "    \n",
    "    page = BeautifulSoup(browser.page_source, \"lxml\")\n",
    "    rows = page.find_all('td', class_ = 'text-right')\n",
    "\n",
    "    belanja_pegawai_rupiah = rows[0].text\n",
    "    penduduk_jiwa = rows[1].text\n",
    "    luas_daratan_km2 = rows[2].text\n",
    "    luas_lautan_km2 = rows[3].text\n",
    "    luas_wilayah_km2 = rows[4].text\n",
    "    ikk = rows[5].text\n",
    "    ipm = rows[6].text\n",
    "    pdrb_per_capita_rupiah = rows[7].text\n",
    "    pad_rupiah = rows[8].text\n",
    "    dbh_pajak_rupiah = rows[9].text\n",
    "    dbh_sda_rupiah = rows[10].text\n",
    "    alokasi_dau_rupiah = rows[11].text   \n",
    " \n",
    "    dau_2018.append((belanja_pegawai_rupiah, penduduk_jiwa, luas_daratan_km2, luas_lautan_km2, luas_wilayah_km2, ikk, ipm,\n",
    "                     pdrb_per_capita_rupiah, pad_rupiah, dbh_pajak_rupiah, dbh_sda_rupiah, alokasi_dau_rupiah))"
   ]
  },
  {
   "cell_type": "code",
   "execution_count": null,
   "metadata": {},
   "outputs": [],
   "source": [
    "len(dau_2018)"
   ]
  },
  {
   "cell_type": "markdown",
   "metadata": {},
   "source": [
    "### Melihat Tampilan Data yang Dikumpulkan:"
   ]
  },
  {
   "cell_type": "code",
   "execution_count": null,
   "metadata": {},
   "outputs": [],
   "source": [
    "dau_2018"
   ]
  },
  {
   "cell_type": "code",
   "execution_count": null,
   "metadata": {},
   "outputs": [],
   "source": [
    "dau_2018[446]"
   ]
  },
  {
   "cell_type": "code",
   "execution_count": null,
   "metadata": {},
   "outputs": [],
   "source": [
    "kode_daerah_df.nama_daerah[392]"
   ]
  },
  {
   "cell_type": "markdown",
   "metadata": {},
   "source": [
    "#### Menyimpan Data:"
   ]
  },
  {
   "cell_type": "code",
   "execution_count": null,
   "metadata": {
    "collapsed": true
   },
   "outputs": [],
   "source": [
    "dau_2018_df = pd.DataFrame(dau_2018, columns = ['Belanja Pegawai (Rupiah)', 'Penduduk (Jiwa)', 'Luas Daratan (km2)',\n",
    "                                                'Luas Lautan (km2)', 'Luas Wilayah (km2)', 'IKK', 'IPM',\n",
    "                                                'PDRB/Capita (Rupiah)', 'PAD (Rupiah)', 'DBH Pajak (Rupiah)',\n",
    "                                                'DBH SDA (Rupiah)', 'Alokasi DAU (Rupiah)'])"
   ]
  },
  {
   "cell_type": "markdown",
   "metadata": {},
   "source": [
    "#### Menambahkan Kolom `Nama Daerah`:"
   ]
  },
  {
   "cell_type": "code",
   "execution_count": null,
   "metadata": {
    "collapsed": true
   },
   "outputs": [],
   "source": [
    "dau_2018_df['Nama Daerah'] = kode_daerah_df['nama_daerah']"
   ]
  },
  {
   "cell_type": "code",
   "execution_count": null,
   "metadata": {},
   "outputs": [],
   "source": [
    "print(dau_2018_df)"
   ]
  },
  {
   "cell_type": "markdown",
   "metadata": {},
   "source": [
    "#### Menyimpan Data:"
   ]
  },
  {
   "cell_type": "code",
   "execution_count": null,
   "metadata": {
    "collapsed": true
   },
   "outputs": [],
   "source": [
    "dau_2018_df.to_csv('dau_2018.csv', index = False)"
   ]
  }
 ],
 "metadata": {
  "kernelspec": {
   "display_name": "Python 3",
   "language": "python",
   "name": "python3"
  },
  "language_info": {
   "codemirror_mode": {
    "name": "ipython",
    "version": 3
   },
   "file_extension": ".py",
   "mimetype": "text/x-python",
   "name": "python",
   "nbconvert_exporter": "python",
   "pygments_lexer": "ipython3",
   "version": "3.6.8"
  }
 },
 "nbformat": 4,
 "nbformat_minor": 2
}
